{
 "cells": [
  {
   "cell_type": "code",
   "execution_count": null,
   "metadata": {
    "colab": {
     "base_uri": "https://localhost:8080/"
    },
    "id": "pl_q6L7bk-JE",
    "outputId": "8991533a-7ab1-4364-edff-c80d98d231c4"
   },
   "outputs": [],
   "source": [
    "import numpy as np\n",
    "import matplotlib.pyplot as plt\n",
    "import seaborn as sns\n",
    "import cv2\n",
    "# import cv2_imshow\n",
    "from PIL import Image\n",
    "import tensorflow as tf\n",
    "tf.random.set_seed(3)\n",
    "from tensorflow import keras\n",
    "from keras.datasets import mnist\n",
    "from tensorflow.math import confusion_matrix"
   ]
  },
  {
   "cell_type": "code",
   "execution_count": null,
   "metadata": {},
   "outputs": [],
   "source": [
    "(X_train, Y_train), (X_test, Y_test) =  mnist.load_data()"
   ]
  },
  {
   "cell_type": "code",
   "execution_count": null,
   "metadata": {
    "colab": {
     "base_uri": "https://localhost:8080/"
    },
    "id": "mTi9DEKtmAgU",
    "outputId": "3cc4850f-fa79-400f-caf7-ae667920971d"
   },
   "outputs": [],
   "source": [
    "type(X_train)"
   ]
  },
  {
   "cell_type": "code",
   "execution_count": null,
   "metadata": {
    "colab": {
     "base_uri": "https://localhost:8080/"
    },
    "id": "KK8ZWV6smDpv",
    "outputId": "80ef464a-195b-42eb-8ee5-74e3101789f5"
   },
   "outputs": [],
   "source": [
    "print(X_train.shape, Y_train.shape, X_test.shape, Y_test.shape)"
   ]
  },
  {
   "cell_type": "markdown",
   "metadata": {
    "id": "rr9jdm31nBxK"
   },
   "source": [
    "Training data = 60,000 Images\n",
    "\n",
    "Test data = 10,000 Images"
   ]
  },
  {
   "cell_type": "markdown",
   "metadata": {
    "id": "XEYmlN6ZnHpk"
   },
   "source": [
    "Image dimension  --> 28 x 28\n",
    "\n",
    "Grayscale Image  --> 1 channel"
   ]
  },
  {
   "cell_type": "code",
   "execution_count": null,
   "metadata": {
    "colab": {
     "base_uri": "https://localhost:8080/"
    },
    "id": "ClBWXM0umUAc",
    "outputId": "d39331ef-d1cc-4590-de41-84c4bd058dda"
   },
   "outputs": [],
   "source": [
    "print(X_train[10])"
   ]
  },
  {
   "cell_type": "code",
   "execution_count": null,
   "metadata": {
    "colab": {
     "base_uri": "https://localhost:8080/"
    },
    "id": "6m2UC_APnbdu",
    "outputId": "d9cea15b-1fe0-4c30-bba9-ccc34cd4f181"
   },
   "outputs": [],
   "source": [
    "print(X_train[10].shape)"
   ]
  },
  {
   "cell_type": "code",
   "execution_count": null,
   "metadata": {
    "colab": {
     "base_uri": "https://localhost:8080/",
     "height": 282
    },
    "id": "Lr0YHVHdni3J",
    "outputId": "afaca8ac-5b57-45ad-a643-be4bb3c05beb"
   },
   "outputs": [],
   "source": [
    "plt.imshow(X_train[25])\n",
    "plt.show()\n",
    "\n",
    "print(Y_train[25])"
   ]
  },
  {
   "cell_type": "code",
   "execution_count": null,
   "metadata": {
    "colab": {
     "base_uri": "https://localhost:8080/"
    },
    "id": "Nmf3HNLwn6Hh",
    "outputId": "85107712-586e-403a-b2d7-942fa780d62f"
   },
   "outputs": [],
   "source": [
    "print(Y_train.shape, Y_test.shape)"
   ]
  },
  {
   "cell_type": "code",
   "execution_count": null,
   "metadata": {
    "colab": {
     "base_uri": "https://localhost:8080/"
    },
    "id": "JoXh2a2xoM_8",
    "outputId": "402849b0-5c5d-476c-e7a3-6cb73c3720c7"
   },
   "outputs": [],
   "source": [
    "print(np.unique(Y_train))\n",
    "\n",
    "print(np.unique(Y_test))"
   ]
  },
  {
   "cell_type": "markdown",
   "metadata": {
    "id": "8wIddeQ4oqro"
   },
   "source": [
    "We can use these labels as such or we can also apply One Hot Encoding"
   ]
  },
  {
   "cell_type": "markdown",
   "metadata": {
    "id": "g74YM0YJo6MW"
   },
   "source": [
    "All the images have the same dimensions in this dataset, If not, we have to resize all the images to a common dimension"
   ]
  },
  {
   "cell_type": "code",
   "execution_count": null,
   "metadata": {
    "id": "gAJxI68noeW5"
   },
   "outputs": [],
   "source": [
    "X_train = X_train/255\n",
    "X_test = X_test/255"
   ]
  },
  {
   "cell_type": "code",
   "execution_count": null,
   "metadata": {
    "colab": {
     "base_uri": "https://localhost:8080/"
    },
    "id": "olSCXrwfpnpr",
    "outputId": "e0d7cd37-bae9-4c49-f967-a8edf2655212"
   },
   "outputs": [],
   "source": [
    "print(X_train[10])"
   ]
  },
  {
   "cell_type": "markdown",
   "metadata": {
    "id": "-OGxD2JNqW7V"
   },
   "source": [
    "Building the Neural Network"
   ]
  },
  {
   "cell_type": "code",
   "execution_count": null,
   "metadata": {
    "id": "w5Cc2uc7qM0v"
   },
   "outputs": [],
   "source": [
    "model = keras.Sequential([\n",
    "                          keras.layers.Flatten(input_shape=(28,28)),\n",
    "                          keras.layers.Dense(50, activation='relu'),\n",
    "                          keras.layers.Dense(50, activation='relu'),\n",
    "                          keras.layers.Dense(10, activation='sigmoid')\n",
    "])"
   ]
  },
  {
   "cell_type": "code",
   "execution_count": null,
   "metadata": {
    "id": "1I2D8NLxsEsf"
   },
   "outputs": [],
   "source": [
    "model.compile(optimizer='adam',\n",
    "              loss = 'sparse_categorical_crossentropy',\n",
    "              metrics=['accuracy'])"
   ]
  },
  {
   "cell_type": "code",
   "execution_count": null,
   "metadata": {
    "colab": {
     "base_uri": "https://localhost:8080/"
    },
    "id": "NyaE8g3os3Ty",
    "outputId": "b516d673-e44d-4845-a8a8-87efa6cf7663"
   },
   "outputs": [],
   "source": [
    "model.fit(X_train, Y_train, epochs=10)"
   ]
  },
  {
   "cell_type": "code",
   "execution_count": null,
   "metadata": {
    "colab": {
     "base_uri": "https://localhost:8080/"
    },
    "id": "XoyRl62stGvm",
    "outputId": "7ea427ef-4469-4237-cc6e-2b005d2e3eb2"
   },
   "outputs": [],
   "source": [
    "loss, accuracy = model.evaluate(X_test, Y_test)\n",
    "print(accuracy)"
   ]
  },
  {
   "cell_type": "markdown",
   "metadata": {
    "id": "LvDub61LuJ3Q"
   },
   "source": [
    "Test data accuracy = 97.1%"
   ]
  },
  {
   "cell_type": "code",
   "execution_count": null,
   "metadata": {
    "colab": {
     "base_uri": "https://localhost:8080/"
    },
    "id": "Jy_0KNc7uE8P",
    "outputId": "391cfb9f-2833-4622-b4ce-3b2c679a305c"
   },
   "outputs": [],
   "source": [
    "print(X_test.shape)"
   ]
  },
  {
   "cell_type": "code",
   "execution_count": null,
   "metadata": {
    "colab": {
     "base_uri": "https://localhost:8080/",
     "height": 265
    },
    "id": "H0FbpoPQuUXx",
    "outputId": "5dacf08b-9c96-4976-f2b2-c89393276aed"
   },
   "outputs": [],
   "source": [
    "plt.imshow(X_test[0])\n",
    "plt.show()"
   ]
  },
  {
   "cell_type": "code",
   "execution_count": null,
   "metadata": {
    "colab": {
     "base_uri": "https://localhost:8080/"
    },
    "id": "r9FHvoC0ueE-",
    "outputId": "46851e44-83d8-4ffe-d2f7-18c385f0302d"
   },
   "outputs": [],
   "source": [
    "print(Y_test[0])"
   ]
  },
  {
   "cell_type": "code",
   "execution_count": null,
   "metadata": {
    "id": "fdYxpFVgujWJ"
   },
   "outputs": [],
   "source": [
    "Y_pred = model.predict(X_test)"
   ]
  },
  {
   "cell_type": "code",
   "execution_count": null,
   "metadata": {
    "colab": {
     "base_uri": "https://localhost:8080/"
    },
    "id": "JK6kpaNGuw16",
    "outputId": "35a566b5-833b-4d4c-b136-4d02238a3ede"
   },
   "outputs": [],
   "source": [
    "print(Y_pred.shape)"
   ]
  },
  {
   "cell_type": "code",
   "execution_count": null,
   "metadata": {
    "colab": {
     "base_uri": "https://localhost:8080/"
    },
    "id": "3czHMOdou069",
    "outputId": "75574c21-38f5-4e79-ef4e-4ee359770e06"
   },
   "outputs": [],
   "source": [
    "print(Y_pred[0])"
   ]
  },
  {
   "cell_type": "code",
   "execution_count": null,
   "metadata": {
    "colab": {
     "base_uri": "https://localhost:8080/"
    },
    "id": "X5Z-zYKvu-tO",
    "outputId": "91cd61aa-996f-4fb1-9cb9-ad587be570ca"
   },
   "outputs": [],
   "source": [
    "label_for_first_test_image = np.argmax(Y_pred[0])\n",
    "print(label_for_first_test_image)"
   ]
  },
  {
   "cell_type": "code",
   "execution_count": null,
   "metadata": {
    "colab": {
     "base_uri": "https://localhost:8080/"
    },
    "id": "feoJffe2v38n",
    "outputId": "ab06d7a4-994d-4c64-8d71-10b11897a028"
   },
   "outputs": [],
   "source": [
    "Y_pred_labels = [np.argmax(i) for i in Y_pred]\n",
    "print(Y_pred_labels)"
   ]
  },
  {
   "cell_type": "code",
   "execution_count": null,
   "metadata": {
    "id": "KtAB880UwiRS"
   },
   "outputs": [],
   "source": [
    "conf_mat = confusion_matrix(Y_test, Y_pred_labels)"
   ]
  },
  {
   "cell_type": "code",
   "execution_count": null,
   "metadata": {
    "colab": {
     "base_uri": "https://localhost:8080/"
    },
    "id": "BFIDGMJFxM6r",
    "outputId": "e88a4306-2a05-4d12-da6d-82fbfb64cf7f"
   },
   "outputs": [],
   "source": [
    "print(conf_mat)"
   ]
  },
  {
   "cell_type": "code",
   "execution_count": null,
   "metadata": {
    "colab": {
     "base_uri": "https://localhost:8080/",
     "height": 460
    },
    "id": "1lygLZQwxO2G",
    "outputId": "b35b826a-6b21-4bb1-933a-ee3795c1cf07"
   },
   "outputs": [],
   "source": [
    "plt.figure(figsize=(15,7))\n",
    "sns.heatmap(conf_mat, annot=True, fmt='d', cmap='Blues')\n",
    "plt.ylabel('True Labels')\n",
    "plt.xlabel('Predicted Labels')"
   ]
  },
  {
   "cell_type": "markdown",
   "metadata": {
    "id": "yoUv5obR7Qk5"
   },
   "source": [
    "Prediction image link: https://camo.githubusercontent.com/3d9666a8f0c5658667292b74ca19295827c2b22a0e903db283998ae213e6f6e1/68747470733a2f2f646174616d61646e6573732e6769746875622e696f2f6173736574732f696d616765732f74665f66696c655f666565642f4d4e4953545f64696769742e706e67"
   ]
  },
  {
   "cell_type": "code",
   "execution_count": null,
   "metadata": {
    "id": "yjYyexayx4pp"
   },
   "outputs": [],
   "source": [
    "input_image_path = 'MNIST_digit.png'\n",
    "\n",
    "input_image = cv2.imread(input_image_path)"
   ]
  },
  {
   "cell_type": "code",
   "execution_count": null,
   "metadata": {
    "colab": {
     "base_uri": "https://localhost:8080/"
    },
    "id": "mIqt1kTRzUy-",
    "outputId": "1b0ec9b9-bdac-4c49-9f40-83df528883ab"
   },
   "outputs": [],
   "source": [
    "type(input_image)"
   ]
  },
  {
   "cell_type": "code",
   "execution_count": null,
   "metadata": {
    "id": "kC1P--e_zXck"
   },
   "outputs": [],
   "source": [
    "print(input_image)"
   ]
  },
  {
   "cell_type": "code",
   "execution_count": null,
   "metadata": {
    "colab": {
     "base_uri": "https://localhost:8080/",
     "height": 335
    },
    "id": "cwx9uCkGzbGT",
    "outputId": "1894cfb7-a291-497c-e3a5-91c194179bcd"
   },
   "outputs": [],
   "source": [
    "cv2_imshow(input_image)"
   ]
  },
  {
   "cell_type": "code",
   "execution_count": null,
   "metadata": {
    "colab": {
     "base_uri": "https://localhost:8080/"
    },
    "id": "78AQcVc-zlOj",
    "outputId": "451e5e14-8886-482c-f3cf-6e82c41019c1"
   },
   "outputs": [],
   "source": [
    "input_image.shape"
   ]
  },
  {
   "cell_type": "code",
   "execution_count": null,
   "metadata": {
    "id": "MXA0J3CyznE2"
   },
   "outputs": [],
   "source": [
    "grayscale = cv2.cvtColor(input_image, cv2.COLOR_RGB2GRAY)"
   ]
  },
  {
   "cell_type": "code",
   "execution_count": null,
   "metadata": {
    "colab": {
     "base_uri": "https://localhost:8080/"
    },
    "id": "ZkW_hJh_0Df6",
    "outputId": "203406f6-9ab3-4144-ef55-cafa87cf3efb"
   },
   "outputs": [],
   "source": [
    "grayscale.shape"
   ]
  },
  {
   "cell_type": "code",
   "execution_count": null,
   "metadata": {
    "id": "hEXu0BmE0Goo"
   },
   "outputs": [],
   "source": [
    "input_image_resize = cv2.resize(grayscale, (28, 28))"
   ]
  },
  {
   "cell_type": "code",
   "execution_count": null,
   "metadata": {
    "colab": {
     "base_uri": "https://localhost:8080/"
    },
    "id": "X9VOKvgx0YzU",
    "outputId": "59ac54d6-1699-49ef-913d-be0dfac23244"
   },
   "outputs": [],
   "source": [
    "input_image_resize.shape"
   ]
  },
  {
   "cell_type": "code",
   "execution_count": null,
   "metadata": {
    "colab": {
     "base_uri": "https://localhost:8080/",
     "height": 45
    },
    "id": "4vawW06R0anF",
    "outputId": "7db820b4-3493-46a5-d9f2-23cad3306617"
   },
   "outputs": [],
   "source": [
    "cv2_imshow(input_image_resize)"
   ]
  },
  {
   "cell_type": "code",
   "execution_count": null,
   "metadata": {
    "id": "VVQnhHBS0j9T"
   },
   "outputs": [],
   "source": [
    "input_image_resize = input_image_resize/255"
   ]
  },
  {
   "cell_type": "code",
   "execution_count": null,
   "metadata": {
    "colab": {
     "base_uri": "https://localhost:8080/"
    },
    "id": "cj5QRu4N1FVv",
    "outputId": "cb51928f-6e88-4302-8add-68b82f25860c"
   },
   "outputs": [],
   "source": [
    "type(input_image_resize)"
   ]
  },
  {
   "cell_type": "code",
   "execution_count": null,
   "metadata": {
    "id": "kEIClW1L0y6_"
   },
   "outputs": [],
   "source": [
    "image_reshaped = np.reshape(input_image_resize, [1,28,28])"
   ]
  },
  {
   "cell_type": "code",
   "execution_count": null,
   "metadata": {
    "colab": {
     "base_uri": "https://localhost:8080/"
    },
    "id": "S7pcNqPT1elf",
    "outputId": "4d5733e7-7a5f-4aa6-e329-8281bbd24f59"
   },
   "outputs": [],
   "source": [
    "input_prediction = model.predict(image_reshaped)\n",
    "print(input_prediction)"
   ]
  },
  {
   "cell_type": "code",
   "execution_count": null,
   "metadata": {
    "id": "KiuNa3BC1l9B"
   },
   "outputs": [],
   "source": [
    "input_pred_label = np.argmax(input_prediction)"
   ]
  },
  {
   "cell_type": "code",
   "execution_count": null,
   "metadata": {
    "colab": {
     "base_uri": "https://localhost:8080/"
    },
    "id": "qQga0z2z1tZf",
    "outputId": "52181d7e-fd56-4a38-a4ee-afb519d087d9"
   },
   "outputs": [],
   "source": [
    "print(input_pred_label)"
   ]
  },
  {
   "cell_type": "code",
   "execution_count": null,
   "metadata": {
    "colab": {
     "base_uri": "https://localhost:8080/",
     "height": 369
    },
    "id": "vhu3CRQZ1vx0",
    "outputId": "95fdbbe1-6327-4ea7-c277-02f143fb7d5e"
   },
   "outputs": [],
   "source": [
    "input_image_path = input('Path of the image to be predicted: ')\n",
    "\n",
    "input_image = cv2.imread(input_image_path)\n",
    "\n",
    "cv2_imshow(input_image)\n",
    "\n",
    "grayscale = cv2.cvtColor(input_image, cv2.COLOR_RGB2GRAY)\n",
    "\n",
    "input_image_resize = cv2.resize(grayscale, (28, 28))\n",
    "\n",
    "input_image_resize = input_image_resize/255\n",
    "\n",
    "image_reshaped = np.reshape(input_image_resize, [1,28,28])\n",
    "\n",
    "input_prediction = model.predict(image_reshaped)\n",
    "\n",
    "input_pred_label = np.argmax(input_prediction)\n",
    "\n",
    "print('The Handwritten Digit is recognised as ', input_pred_label)"
   ]
  }
 ],
 "metadata": {
  "colab": {
   "collapsed_sections": [],
   "name": "DL Project 2. MNIST Digit classification using NN.ipynb",
   "provenance": []
  },
  "kernelspec": {
   "display_name": "Python 3 (ipykernel)",
   "language": "python",
   "name": "python3"
  },
  "language_info": {
   "codemirror_mode": {
    "name": "ipython",
    "version": 3
   },
   "file_extension": ".py",
   "mimetype": "text/x-python",
   "name": "python",
   "nbconvert_exporter": "python",
   "pygments_lexer": "ipython3",
   "version": "3.9.7"
  }
 },
 "nbformat": 4,
 "nbformat_minor": 4
}
